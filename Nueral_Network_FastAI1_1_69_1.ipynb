{
  "nbformat": 4,
  "nbformat_minor": 0,
  "metadata": {
    "colab": {
      "name": "Copy of FastAI1.1 - 69.1",
      "provenance": [],
      "include_colab_link": true
    },
    "kernelspec": {
      "name": "python3",
      "display_name": "Python 3"
    }
  },
  "cells": [
    {
      "cell_type": "markdown",
      "metadata": {
        "id": "view-in-github",
        "colab_type": "text"
      },
      "source": [
        "<a href=\"https://colab.research.google.com/github/ronan94/BWM-ML/blob/master/Nueral_Network_FastAI1_1_69_1.ipynb\" target=\"_parent\"><img src=\"https://colab.research.google.com/assets/colab-badge.svg\" alt=\"Open In Colab\"/></a>"
      ]
    },
    {
      "cell_type": "code",
      "metadata": {
        "id": "xQkZnnUYDY3F",
        "colab_type": "code",
        "colab": {}
      },
      "source": [
        "%reload_ext autoreload\n",
        "%autoreload 2\n",
        "%matplotlib inline"
      ],
      "execution_count": null,
      "outputs": []
    },
    {
      "cell_type": "code",
      "metadata": {
        "colab_type": "code",
        "id": "GTsLRuvP7WMd",
        "colab": {}
      },
      "source": [
        "# Load libraries\n",
        "import numpy as np # linear algebra\n",
        "import matplotlib.pyplot as plt\n",
        "import pandas as pd # data processing, CSV file I/O (e.g. pd.read_csv)\n",
        "\n",
        "\n",
        "# fastai.tabular\n",
        "from fastai import *\n",
        "from fastai.tabular import *\n",
        "from fastai.widgets import * #top losses function\n",
        "# datablock API\n",
        "from fastai.gen_doc.nbdoc import *\n",
        "from fastai.basics import *"
      ],
      "execution_count": null,
      "outputs": []
    },
    {
      "cell_type": "code",
      "metadata": {
        "id": "qG3jT8YX7XFY",
        "colab_type": "code",
        "colab": {
          "base_uri": "https://localhost:8080/",
          "height": 243
        },
        "outputId": "1dd16001-3bf7-42f0-80ca-91f55ed6b61a"
      },
      "source": [
        "# Set working directory \n",
        "from google.colab import drive\n",
        "drive.mount('/content/drive')\n",
        "\n",
        "path = Path('/content/drive/My Drive/Colab Notebooks')\n",
        "dest = path\n",
        "dest.mkdir(parents=True, exist_ok=True)\n",
        "path.ls()"
      ],
      "execution_count": null,
      "outputs": [
        {
          "output_type": "stream",
          "text": [
            "Drive already mounted at /content/drive; to attempt to forcibly remount, call drive.mount(\"/content/drive\", force_remount=True).\n"
          ],
          "name": "stdout"
        },
        {
          "output_type": "execute_result",
          "data": {
            "text/plain": [
              "[PosixPath('/content/drive/My Drive/Colab Notebooks/Old'),\n",
              " PosixPath('/content/drive/My Drive/Colab Notebooks/ChurnTest.csv'),\n",
              " PosixPath('/content/drive/My Drive/Colab Notebooks/ChurnTrain.csv'),\n",
              " PosixPath('/content/drive/My Drive/Colab Notebooks/ChurnTestScaled.csv'),\n",
              " PosixPath('/content/drive/My Drive/Colab Notebooks/ChurnTrainScaled.csv'),\n",
              " PosixPath('/content/drive/My Drive/Colab Notebooks/Keras1.0 '),\n",
              " PosixPath('/content/drive/My Drive/Colab Notebooks/models'),\n",
              " PosixPath('/content/drive/My Drive/Colab Notebooks/karas-tenserflow1.0 -70% accuracy.ipynb'),\n",
              " PosixPath('/content/drive/My Drive/Colab Notebooks/Traditional Methods.ipynb'),\n",
              " PosixPath('/content/drive/My Drive/Colab Notebooks/FastAI1.1 - 69.1'),\n",
              " PosixPath('/content/drive/My Drive/Colab Notebooks/Copy of FastAI1.1 - 69.1'),\n",
              " PosixPath('/content/drive/My Drive/Colab Notebooks/Copy of Copy of FastAI1.1 - 69.1')]"
            ]
          },
          "metadata": {
            "tags": []
          },
          "execution_count": 195
        }
      ]
    },
    {
      "cell_type": "code",
      "metadata": {
        "id": "CUZDIi3L7iIf",
        "colab_type": "code",
        "colab": {}
      },
      "source": [
        "import os\n",
        "fnames = os.listdir(path) # list of all filenames in the directory"
      ],
      "execution_count": null,
      "outputs": []
    },
    {
      "cell_type": "code",
      "metadata": {
        "id": "w1VwOPjb66t6",
        "colab_type": "code",
        "colab": {}
      },
      "source": [
        "ChurnTrain = pd.read_csv(path/'ChurnTrain.csv')\n",
        "ChurnTest = pd.read_csv(path/'ChurnTest.csv')\n",
        "\n",
        "\n"
      ],
      "execution_count": null,
      "outputs": []
    },
    {
      "cell_type": "code",
      "metadata": {
        "id": "YJlD2fqGBACJ",
        "colab_type": "code",
        "colab": {
          "base_uri": "https://localhost:8080/",
          "height": 325
        },
        "outputId": "73e358e6-e9dd-4465-8329-4a37d1834856"
      },
      "source": [
        "ChurnTrain[1:10]"
      ],
      "execution_count": null,
      "outputs": [
        {
          "output_type": "execute_result",
          "data": {
            "text/html": [
              "<div>\n",
              "<style scoped>\n",
              "    .dataframe tbody tr th:only-of-type {\n",
              "        vertical-align: middle;\n",
              "    }\n",
              "\n",
              "    .dataframe tbody tr th {\n",
              "        vertical-align: top;\n",
              "    }\n",
              "\n",
              "    .dataframe thead th {\n",
              "        text-align: right;\n",
              "    }\n",
              "</style>\n",
              "<table border=\"1\" class=\"dataframe\">\n",
              "  <thead>\n",
              "    <tr style=\"text-align: right;\">\n",
              "      <th></th>\n",
              "      <th>Unnamed: 0</th>\n",
              "      <th>college</th>\n",
              "      <th>income</th>\n",
              "      <th>overage</th>\n",
              "      <th>leftover</th>\n",
              "      <th>house</th>\n",
              "      <th>handset_price</th>\n",
              "      <th>over_15mins_calls_per_month</th>\n",
              "      <th>average_call_duration</th>\n",
              "      <th>reported_satisfaction</th>\n",
              "      <th>reported_usage_level</th>\n",
              "      <th>considering_change_of_plan</th>\n",
              "      <th>leave</th>\n",
              "    </tr>\n",
              "  </thead>\n",
              "  <tbody>\n",
              "    <tr>\n",
              "      <th>1</th>\n",
              "      <td>11295</td>\n",
              "      <td>one</td>\n",
              "      <td>49676</td>\n",
              "      <td>0</td>\n",
              "      <td>0</td>\n",
              "      <td>472768</td>\n",
              "      <td>130</td>\n",
              "      <td>0</td>\n",
              "      <td>1</td>\n",
              "      <td>very_unsat</td>\n",
              "      <td>very_high</td>\n",
              "      <td>no</td>\n",
              "      <td>STAY</td>\n",
              "    </tr>\n",
              "    <tr>\n",
              "      <th>2</th>\n",
              "      <td>1480</td>\n",
              "      <td>zero</td>\n",
              "      <td>64064</td>\n",
              "      <td>47</td>\n",
              "      <td>41</td>\n",
              "      <td>971821</td>\n",
              "      <td>320</td>\n",
              "      <td>3</td>\n",
              "      <td>1</td>\n",
              "      <td>very_unsat</td>\n",
              "      <td>very_high</td>\n",
              "      <td>considering</td>\n",
              "      <td>LEAVE</td>\n",
              "    </tr>\n",
              "    <tr>\n",
              "      <th>3</th>\n",
              "      <td>9076</td>\n",
              "      <td>zero</td>\n",
              "      <td>71481</td>\n",
              "      <td>0</td>\n",
              "      <td>0</td>\n",
              "      <td>542775</td>\n",
              "      <td>168</td>\n",
              "      <td>0</td>\n",
              "      <td>11</td>\n",
              "      <td>very_unsat</td>\n",
              "      <td>little</td>\n",
              "      <td>considering</td>\n",
              "      <td>STAY</td>\n",
              "    </tr>\n",
              "    <tr>\n",
              "      <th>4</th>\n",
              "      <td>7465</td>\n",
              "      <td>zero</td>\n",
              "      <td>68089</td>\n",
              "      <td>0</td>\n",
              "      <td>0</td>\n",
              "      <td>175108</td>\n",
              "      <td>271</td>\n",
              "      <td>1</td>\n",
              "      <td>12</td>\n",
              "      <td>unsat</td>\n",
              "      <td>little</td>\n",
              "      <td>considering</td>\n",
              "      <td>STAY</td>\n",
              "    </tr>\n",
              "    <tr>\n",
              "      <th>5</th>\n",
              "      <td>6625</td>\n",
              "      <td>zero</td>\n",
              "      <td>131282</td>\n",
              "      <td>0</td>\n",
              "      <td>0</td>\n",
              "      <td>167124</td>\n",
              "      <td>726</td>\n",
              "      <td>4</td>\n",
              "      <td>13</td>\n",
              "      <td>avg</td>\n",
              "      <td>little</td>\n",
              "      <td>considering</td>\n",
              "      <td>STAY</td>\n",
              "    </tr>\n",
              "    <tr>\n",
              "      <th>6</th>\n",
              "      <td>18947</td>\n",
              "      <td>zero</td>\n",
              "      <td>30244</td>\n",
              "      <td>58</td>\n",
              "      <td>0</td>\n",
              "      <td>338403</td>\n",
              "      <td>214</td>\n",
              "      <td>3</td>\n",
              "      <td>9</td>\n",
              "      <td>avg</td>\n",
              "      <td>very_high</td>\n",
              "      <td>actively_looking_into_it</td>\n",
              "      <td>LEAVE</td>\n",
              "    </tr>\n",
              "    <tr>\n",
              "      <th>7</th>\n",
              "      <td>5621</td>\n",
              "      <td>one</td>\n",
              "      <td>131466</td>\n",
              "      <td>49</td>\n",
              "      <td>10</td>\n",
              "      <td>323414</td>\n",
              "      <td>880</td>\n",
              "      <td>5</td>\n",
              "      <td>4</td>\n",
              "      <td>unsat</td>\n",
              "      <td>very_high</td>\n",
              "      <td>considering</td>\n",
              "      <td>LEAVE</td>\n",
              "    </tr>\n",
              "    <tr>\n",
              "      <th>8</th>\n",
              "      <td>4907</td>\n",
              "      <td>zero</td>\n",
              "      <td>23859</td>\n",
              "      <td>52</td>\n",
              "      <td>0</td>\n",
              "      <td>866725</td>\n",
              "      <td>161</td>\n",
              "      <td>3</td>\n",
              "      <td>11</td>\n",
              "      <td>very_sat</td>\n",
              "      <td>little</td>\n",
              "      <td>no</td>\n",
              "      <td>LEAVE</td>\n",
              "    </tr>\n",
              "    <tr>\n",
              "      <th>9</th>\n",
              "      <td>2920</td>\n",
              "      <td>zero</td>\n",
              "      <td>42527</td>\n",
              "      <td>68</td>\n",
              "      <td>9</td>\n",
              "      <td>327709</td>\n",
              "      <td>212</td>\n",
              "      <td>16</td>\n",
              "      <td>5</td>\n",
              "      <td>very_unsat</td>\n",
              "      <td>high</td>\n",
              "      <td>actively_looking_into_it</td>\n",
              "      <td>LEAVE</td>\n",
              "    </tr>\n",
              "  </tbody>\n",
              "</table>\n",
              "</div>"
            ],
            "text/plain": [
              "   Unnamed: 0 college  ...  considering_change_of_plan  leave\n",
              "1       11295     one  ...                          no   STAY\n",
              "2        1480    zero  ...                 considering  LEAVE\n",
              "3        9076    zero  ...                 considering   STAY\n",
              "4        7465    zero  ...                 considering   STAY\n",
              "5        6625    zero  ...                 considering   STAY\n",
              "6       18947    zero  ...    actively_looking_into_it  LEAVE\n",
              "7        5621     one  ...                 considering  LEAVE\n",
              "8        4907    zero  ...                          no  LEAVE\n",
              "9        2920    zero  ...    actively_looking_into_it  LEAVE\n",
              "\n",
              "[9 rows x 13 columns]"
            ]
          },
          "metadata": {
            "tags": []
          },
          "execution_count": 198
        }
      ]
    },
    {
      "cell_type": "code",
      "metadata": {
        "id": "KYqE41Z8ED9Y",
        "colab_type": "code",
        "colab": {
          "base_uri": "https://localhost:8080/",
          "height": 325
        },
        "outputId": "b87ba8f7-99ca-40b6-d23d-5083dc73c007"
      },
      "source": [
        "ChurnTest[1:10]"
      ],
      "execution_count": null,
      "outputs": [
        {
          "output_type": "execute_result",
          "data": {
            "text/html": [
              "<div>\n",
              "<style scoped>\n",
              "    .dataframe tbody tr th:only-of-type {\n",
              "        vertical-align: middle;\n",
              "    }\n",
              "\n",
              "    .dataframe tbody tr th {\n",
              "        vertical-align: top;\n",
              "    }\n",
              "\n",
              "    .dataframe thead th {\n",
              "        text-align: right;\n",
              "    }\n",
              "</style>\n",
              "<table border=\"1\" class=\"dataframe\">\n",
              "  <thead>\n",
              "    <tr style=\"text-align: right;\">\n",
              "      <th></th>\n",
              "      <th>Unnamed: 0</th>\n",
              "      <th>college</th>\n",
              "      <th>income</th>\n",
              "      <th>overage</th>\n",
              "      <th>leftover</th>\n",
              "      <th>house</th>\n",
              "      <th>handset_price</th>\n",
              "      <th>over_15mins_calls_per_month</th>\n",
              "      <th>average_call_duration</th>\n",
              "      <th>reported_satisfaction</th>\n",
              "      <th>reported_usage_level</th>\n",
              "      <th>considering_change_of_plan</th>\n",
              "      <th>leave</th>\n",
              "    </tr>\n",
              "  </thead>\n",
              "  <tbody>\n",
              "    <tr>\n",
              "      <th>1</th>\n",
              "      <td>9</td>\n",
              "      <td>zero</td>\n",
              "      <td>38171</td>\n",
              "      <td>0</td>\n",
              "      <td>7</td>\n",
              "      <td>274218</td>\n",
              "      <td>190</td>\n",
              "      <td>0</td>\n",
              "      <td>5</td>\n",
              "      <td>very_sat</td>\n",
              "      <td>little</td>\n",
              "      <td>actively_looking_into_it</td>\n",
              "      <td>STAY</td>\n",
              "    </tr>\n",
              "    <tr>\n",
              "      <th>2</th>\n",
              "      <td>11</td>\n",
              "      <td>zero</td>\n",
              "      <td>20120</td>\n",
              "      <td>43</td>\n",
              "      <td>0</td>\n",
              "      <td>623166</td>\n",
              "      <td>209</td>\n",
              "      <td>5</td>\n",
              "      <td>8</td>\n",
              "      <td>very_sat</td>\n",
              "      <td>little</td>\n",
              "      <td>never_thought</td>\n",
              "      <td>STAY</td>\n",
              "    </tr>\n",
              "    <tr>\n",
              "      <th>3</th>\n",
              "      <td>16</td>\n",
              "      <td>zero</td>\n",
              "      <td>159902</td>\n",
              "      <td>0</td>\n",
              "      <td>20</td>\n",
              "      <td>213299</td>\n",
              "      <td>516</td>\n",
              "      <td>1</td>\n",
              "      <td>4</td>\n",
              "      <td>very_sat</td>\n",
              "      <td>high</td>\n",
              "      <td>actively_looking_into_it</td>\n",
              "      <td>STAY</td>\n",
              "    </tr>\n",
              "    <tr>\n",
              "      <th>4</th>\n",
              "      <td>22</td>\n",
              "      <td>one</td>\n",
              "      <td>86658</td>\n",
              "      <td>78</td>\n",
              "      <td>15</td>\n",
              "      <td>150852</td>\n",
              "      <td>296</td>\n",
              "      <td>4</td>\n",
              "      <td>5</td>\n",
              "      <td>very_sat</td>\n",
              "      <td>very_high</td>\n",
              "      <td>never_thought</td>\n",
              "      <td>STAY</td>\n",
              "    </tr>\n",
              "    <tr>\n",
              "      <th>5</th>\n",
              "      <td>45</td>\n",
              "      <td>one</td>\n",
              "      <td>32061</td>\n",
              "      <td>68</td>\n",
              "      <td>55</td>\n",
              "      <td>247138</td>\n",
              "      <td>209</td>\n",
              "      <td>5</td>\n",
              "      <td>2</td>\n",
              "      <td>very_unsat</td>\n",
              "      <td>little</td>\n",
              "      <td>no</td>\n",
              "      <td>STAY</td>\n",
              "    </tr>\n",
              "    <tr>\n",
              "      <th>6</th>\n",
              "      <td>46</td>\n",
              "      <td>one</td>\n",
              "      <td>20548</td>\n",
              "      <td>0</td>\n",
              "      <td>13</td>\n",
              "      <td>618233</td>\n",
              "      <td>247</td>\n",
              "      <td>0</td>\n",
              "      <td>4</td>\n",
              "      <td>sat</td>\n",
              "      <td>very_high</td>\n",
              "      <td>no</td>\n",
              "      <td>STAY</td>\n",
              "    </tr>\n",
              "    <tr>\n",
              "      <th>7</th>\n",
              "      <td>54</td>\n",
              "      <td>zero</td>\n",
              "      <td>73689</td>\n",
              "      <td>0</td>\n",
              "      <td>73</td>\n",
              "      <td>435407</td>\n",
              "      <td>142</td>\n",
              "      <td>0</td>\n",
              "      <td>2</td>\n",
              "      <td>very_sat</td>\n",
              "      <td>very_high</td>\n",
              "      <td>considering</td>\n",
              "      <td>LEAVE</td>\n",
              "    </tr>\n",
              "    <tr>\n",
              "      <th>8</th>\n",
              "      <td>55</td>\n",
              "      <td>one</td>\n",
              "      <td>42585</td>\n",
              "      <td>72</td>\n",
              "      <td>83</td>\n",
              "      <td>477745</td>\n",
              "      <td>142</td>\n",
              "      <td>4</td>\n",
              "      <td>1</td>\n",
              "      <td>very_unsat</td>\n",
              "      <td>little</td>\n",
              "      <td>actively_looking_into_it</td>\n",
              "      <td>STAY</td>\n",
              "    </tr>\n",
              "    <tr>\n",
              "      <th>9</th>\n",
              "      <td>63</td>\n",
              "      <td>one</td>\n",
              "      <td>84371</td>\n",
              "      <td>38</td>\n",
              "      <td>22</td>\n",
              "      <td>763123</td>\n",
              "      <td>292</td>\n",
              "      <td>14</td>\n",
              "      <td>4</td>\n",
              "      <td>very_sat</td>\n",
              "      <td>little</td>\n",
              "      <td>considering</td>\n",
              "      <td>STAY</td>\n",
              "    </tr>\n",
              "  </tbody>\n",
              "</table>\n",
              "</div>"
            ],
            "text/plain": [
              "   Unnamed: 0 college  ...  considering_change_of_plan  leave\n",
              "1           9    zero  ...    actively_looking_into_it   STAY\n",
              "2          11    zero  ...               never_thought   STAY\n",
              "3          16    zero  ...    actively_looking_into_it   STAY\n",
              "4          22     one  ...               never_thought   STAY\n",
              "5          45     one  ...                          no   STAY\n",
              "6          46     one  ...                          no   STAY\n",
              "7          54    zero  ...                 considering  LEAVE\n",
              "8          55     one  ...    actively_looking_into_it   STAY\n",
              "9          63     one  ...                 considering   STAY\n",
              "\n",
              "[9 rows x 13 columns]"
            ]
          },
          "metadata": {
            "tags": []
          },
          "execution_count": 199
        }
      ]
    },
    {
      "cell_type": "code",
      "metadata": {
        "id": "OYkatsMnEsdg",
        "colab_type": "code",
        "colab": {}
      },
      "source": [
        "# defining the variables\n",
        "dep_var = 'leave'\n",
        "cat_names = ['considering_change_of_plan', 'reported_usage_level', 'reported_satisfaction', 'college']\n",
        "cont_names = ['average_call_duration', 'over_15mins_calls_per_month', 'handset_price', 'house', 'leftover', 'overage', 'income']\n",
        "procs = [FillMissing, Categorify, Normalize]"
      ],
      "execution_count": null,
      "outputs": []
    },
    {
      "cell_type": "code",
      "metadata": {
        "id": "2EBhvV3XHa7k",
        "colab_type": "code",
        "colab": {}
      },
      "source": [
        "# setting up the validation set (80/20) with 3200 examples\n",
        "test = TabularList.from_df(ChurnTest, \n",
        "                           path=path, cat_names=cat_names, cont_names=cont_names)"
      ],
      "execution_count": null,
      "outputs": []
    },
    {
      "cell_type": "code",
      "metadata": {
        "id": "wST7MpNpGOSq",
        "colab_type": "code",
        "colab": {}
      },
      "source": [
        "data = (TabularList.from_df(ChurnTrain, path=path, cat_names=cat_names, cont_names=cont_names, procs=procs)\n",
        "                           .split_by_idx(list(range(14000,16000)))\n",
        "                           .label_from_df(cols=dep_var)\n",
        "                           .add_test(test)\n",
        "                           .databunch())"
      ],
      "execution_count": null,
      "outputs": []
    },
    {
      "cell_type": "code",
      "metadata": {
        "id": "x5Gi7FZIJxgR",
        "colab_type": "code",
        "colab": {
          "base_uri": "https://localhost:8080/",
          "height": 355
        },
        "outputId": "540c24c1-9d8a-439a-99ff-8707945636d5"
      },
      "source": [
        "data.show_batch(rows=10)"
      ],
      "execution_count": null,
      "outputs": [
        {
          "output_type": "display_data",
          "data": {
            "text/html": [
              "<table border=\"1\" class=\"dataframe\">\n",
              "  <thead>\n",
              "    <tr style=\"text-align: right;\">\n",
              "      <th>considering_change_of_plan</th>\n",
              "      <th>reported_usage_level</th>\n",
              "      <th>reported_satisfaction</th>\n",
              "      <th>college</th>\n",
              "      <th>average_call_duration</th>\n",
              "      <th>over_15mins_calls_per_month</th>\n",
              "      <th>handset_price</th>\n",
              "      <th>house</th>\n",
              "      <th>leftover</th>\n",
              "      <th>overage</th>\n",
              "      <th>income</th>\n",
              "      <th>target</th>\n",
              "    </tr>\n",
              "  </thead>\n",
              "  <tbody>\n",
              "    <tr>\n",
              "      <td>actively_looking_into_it</td>\n",
              "      <td>very_little</td>\n",
              "      <td>avg</td>\n",
              "      <td>one</td>\n",
              "      <td>0.4497</td>\n",
              "      <td>-0.5589</td>\n",
              "      <td>-0.4298</td>\n",
              "      <td>-1.1381</td>\n",
              "      <td>-0.8858</td>\n",
              "      <td>-0.2407</td>\n",
              "      <td>-0.6193</td>\n",
              "      <td>LEAVE</td>\n",
              "    </tr>\n",
              "    <tr>\n",
              "      <td>never_thought</td>\n",
              "      <td>little</td>\n",
              "      <td>very_unsat</td>\n",
              "      <td>zero</td>\n",
              "      <td>-0.2295</td>\n",
              "      <td>-0.7828</td>\n",
              "      <td>-0.7252</td>\n",
              "      <td>-0.6943</td>\n",
              "      <td>-0.2901</td>\n",
              "      <td>-0.9996</td>\n",
              "      <td>-1.2124</td>\n",
              "      <td>STAY</td>\n",
              "    </tr>\n",
              "    <tr>\n",
              "      <td>never_thought</td>\n",
              "      <td>very_high</td>\n",
              "      <td>unsat</td>\n",
              "      <td>one</td>\n",
              "      <td>-1.1351</td>\n",
              "      <td>-0.4470</td>\n",
              "      <td>-0.9596</td>\n",
              "      <td>0.5951</td>\n",
              "      <td>0.2683</td>\n",
              "      <td>-0.5559</td>\n",
              "      <td>-1.0503</td>\n",
              "      <td>STAY</td>\n",
              "    </tr>\n",
              "    <tr>\n",
              "      <td>considering</td>\n",
              "      <td>high</td>\n",
              "      <td>unsat</td>\n",
              "      <td>one</td>\n",
              "      <td>-0.9087</td>\n",
              "      <td>1.2322</td>\n",
              "      <td>-0.0314</td>\n",
              "      <td>-0.2411</td>\n",
              "      <td>2.2413</td>\n",
              "      <td>0.8568</td>\n",
              "      <td>0.2171</td>\n",
              "      <td>STAY</td>\n",
              "    </tr>\n",
              "    <tr>\n",
              "      <td>actively_looking_into_it</td>\n",
              "      <td>little</td>\n",
              "      <td>very_sat</td>\n",
              "      <td>zero</td>\n",
              "      <td>-0.2295</td>\n",
              "      <td>-0.3350</td>\n",
              "      <td>2.2797</td>\n",
              "      <td>-0.7821</td>\n",
              "      <td>-0.1412</td>\n",
              "      <td>-0.0889</td>\n",
              "      <td>1.0241</td>\n",
              "      <td>LEAVE</td>\n",
              "    </tr>\n",
              "    <tr>\n",
              "      <td>never_thought</td>\n",
              "      <td>high</td>\n",
              "      <td>very_unsat</td>\n",
              "      <td>zero</td>\n",
              "      <td>-0.4559</td>\n",
              "      <td>-0.7828</td>\n",
              "      <td>-0.2001</td>\n",
              "      <td>1.2987</td>\n",
              "      <td>-0.4390</td>\n",
              "      <td>-0.9996</td>\n",
              "      <td>0.0088</td>\n",
              "      <td>STAY</td>\n",
              "    </tr>\n",
              "    <tr>\n",
              "      <td>actively_looking_into_it</td>\n",
              "      <td>very_high</td>\n",
              "      <td>very_unsat</td>\n",
              "      <td>one</td>\n",
              "      <td>-0.9087</td>\n",
              "      <td>-0.8947</td>\n",
              "      <td>0.5265</td>\n",
              "      <td>-0.6430</td>\n",
              "      <td>2.2785</td>\n",
              "      <td>-0.9996</td>\n",
              "      <td>1.0860</td>\n",
              "      <td>LEAVE</td>\n",
              "    </tr>\n",
              "    <tr>\n",
              "      <td>considering</td>\n",
              "      <td>very_high</td>\n",
              "      <td>unsat</td>\n",
              "      <td>zero</td>\n",
              "      <td>-0.0031</td>\n",
              "      <td>-0.7828</td>\n",
              "      <td>2.1485</td>\n",
              "      <td>-1.3508</td>\n",
              "      <td>-0.3274</td>\n",
              "      <td>-0.9996</td>\n",
              "      <td>-1.0896</td>\n",
              "      <td>STAY</td>\n",
              "    </tr>\n",
              "    <tr>\n",
              "      <td>considering</td>\n",
              "      <td>very_little</td>\n",
              "      <td>very_unsat</td>\n",
              "      <td>one</td>\n",
              "      <td>-1.1351</td>\n",
              "      <td>1.7919</td>\n",
              "      <td>-1.0111</td>\n",
              "      <td>0.8646</td>\n",
              "      <td>1.0128</td>\n",
              "      <td>0.6117</td>\n",
              "      <td>-0.7649</td>\n",
              "      <td>STAY</td>\n",
              "    </tr>\n",
              "    <tr>\n",
              "      <td>considering</td>\n",
              "      <td>high</td>\n",
              "      <td>very_unsat</td>\n",
              "      <td>one</td>\n",
              "      <td>-0.2295</td>\n",
              "      <td>0.6724</td>\n",
              "      <td>-0.8517</td>\n",
              "      <td>-1.0157</td>\n",
              "      <td>-0.2529</td>\n",
              "      <td>0.7985</td>\n",
              "      <td>-1.0665</td>\n",
              "      <td>LEAVE</td>\n",
              "    </tr>\n",
              "  </tbody>\n",
              "</table>"
            ],
            "text/plain": [
              "<IPython.core.display.HTML object>"
            ]
          },
          "metadata": {
            "tags": []
          }
        }
      ]
    },
    {
      "cell_type": "code",
      "metadata": {
        "id": "T4OymHUIKk7R",
        "colab_type": "code",
        "colab": {}
      },
      "source": [
        "from sklearn.metrics import roc_auc_score\n",
        "\n",
        "def auroc_score(input, target):\n",
        "    input, target = input.cpu().numpy()[:,1], target.cpu().numpy()\n",
        "    return roc_auc_score(target, input)\n",
        "\n",
        "class AUROC(Callback):\n",
        "    _order = -20 #Needs to run before the recorder\n",
        "\n",
        "    def __init__(self, learn, **kwargs): self.learn = learn\n",
        "    def on_train_begin(self, **kwargs): self.learn.recorder.add_metric_names(['AUROC'])\n",
        "    def on_epoch_begin(self, **kwargs): self.output, self.target = [], []\n",
        "    \n",
        "    def on_batch_end(self, last_target, last_output, train, **kwargs):\n",
        "        if not train:\n",
        "            self.output.append(last_output)\n",
        "            self.target.append(last_target)\n",
        "                \n",
        "    def on_epoch_end(self, last_metrics, **kwargs):\n",
        "        if len(self.output) > 0:\n",
        "            output = torch.cat(self.output)\n",
        "            target = torch.cat(self.target)\n",
        "            preds = F.softmax(output, dim=1)\n",
        "            metric = auroc_score(preds, target)\n",
        "            return add_metrics(last_metrics, [metric])"
      ],
      "execution_count": null,
      "outputs": []
    },
    {
      "cell_type": "code",
      "metadata": {
        "id": "Z3B0YVn7Kyhm",
        "colab_type": "code",
        "colab": {}
      },
      "source": [
        "learn = tabular_learner(data, layers=[500,23], metrics= accuracy, callback_fns=AUROC)"
      ],
      "execution_count": null,
      "outputs": []
    },
    {
      "cell_type": "code",
      "metadata": {
        "id": "zAbxImHByGql",
        "colab_type": "code",
        "colab": {
          "base_uri": "https://localhost:8080/",
          "height": 35
        },
        "outputId": "1e08eaf4-1c78-469f-bfd4-66f7a3eb6de3"
      },
      "source": [
        "learn.lr_find()"
      ],
      "execution_count": null,
      "outputs": [
        {
          "output_type": "display_data",
          "data": {
            "text/html": [
              ""
            ],
            "text/plain": [
              "<IPython.core.display.HTML object>"
            ]
          },
          "metadata": {
            "tags": []
          }
        },
        {
          "output_type": "stream",
          "text": [
            "LR Finder is complete, type {learner_name}.recorder.plot() to see the graph.\n"
          ],
          "name": "stdout"
        }
      ]
    },
    {
      "cell_type": "code",
      "metadata": {
        "id": "ot-8J8rgyOUD",
        "colab_type": "code",
        "colab": {
          "base_uri": "https://localhost:8080/",
          "height": 283
        },
        "outputId": "4593653b-97a6-434b-f03a-bd80d2b09654"
      },
      "source": [
        "learn.recorder.plot()"
      ],
      "execution_count": null,
      "outputs": [
        {
          "output_type": "display_data",
          "data": {
            "image/png": "[encoded data removed]",
            "text/plain": [
              "<Figure size 432x288 with 1 Axes>"
            ]
          },
          "metadata": {
            "tags": []
          }
        }
      ]
    },
    {
      "cell_type": "code",
      "metadata": {
        "id": "cBvCsCX-Kz07",
        "colab_type": "code",
        "colab": {
          "base_uri": "https://localhost:8080/",
          "height": 79
        },
        "outputId": "36e75437-1063-4b48-d194-7d41380619ba"
      },
      "source": [
        "learn.fit(1, 1e-2)"
      ],
      "execution_count": null,
      "outputs": [
        {
          "output_type": "display_data",
          "data": {
            "text/html": [
              "<table border=\"1\" class=\"dataframe\">\n",
              "  <thead>\n",
              "    <tr style=\"text-align: left;\">\n",
              "      <th>epoch</th>\n",
              "      <th>train_loss</th>\n",
              "      <th>valid_loss</th>\n",
              "      <th>accuracy</th>\n",
              "      <th>AUROC</th>\n",
              "      <th>time</th>\n",
              "    </tr>\n",
              "  </thead>\n",
              "  <tbody>\n",
              "    <tr>\n",
              "      <td>0</td>\n",
              "      <td>0.576566</td>\n",
              "      <td>0.587669</td>\n",
              "      <td>0.681000</td>\n",
              "      <td>0.760485</td>\n",
              "      <td>00:03</td>\n",
              "    </tr>\n",
              "  </tbody>\n",
              "</table>"
            ],
            "text/plain": [
              "<IPython.core.display.HTML object>"
            ]
          },
          "metadata": {
            "tags": []
          }
        }
      ]
    },
    {
      "cell_type": "code",
      "metadata": {
        "id": "c3_B_A286kpQ",
        "colab_type": "code",
        "colab": {}
      },
      "source": [
        "learn.save('test-1')"
      ],
      "execution_count": null,
      "outputs": []
    },
    {
      "cell_type": "code",
      "metadata": {
        "id": "1V9eMLBrJSay",
        "colab_type": "code",
        "colab": {}
      },
      "source": [
        "interp = ClassificationInterpretation.from_learner(learn)"
      ],
      "execution_count": null,
      "outputs": []
    },
    {
      "cell_type": "code",
      "metadata": {
        "id": "EFuvMsIzJfSF",
        "colab_type": "code",
        "colab": {
          "base_uri": "https://localhost:8080/",
          "height": 311
        },
        "outputId": "4e9f3205-120d-43ea-fc63-c8e58256eaf7"
      },
      "source": [
        "interp.plot_confusion_matrix()"
      ],
      "execution_count": null,
      "outputs": [
        {
          "output_type": "display_data",
          "data": {
            "image/png": "[encoded data removed]",
            "text/plain": [
              "<Figure size 432x288 with 1 Axes>"
            ]
          },
          "metadata": {
            "tags": []
          }
        }
      ]
    },
    {
      "cell_type": "code",
      "metadata": {
        "id": "fApQsBKDKDKr",
        "colab_type": "code",
        "colab": {}
      },
      "source": [
        "# Let's have a look at the most painful datapoints (top loses)\n",
        "losses,idxs = interp.top_losses()\n",
        "top_loss_paths = data.valid_ds.x[idxs]"
      ],
      "execution_count": null,
      "outputs": []
    },
    {
      "cell_type": "code",
      "metadata": {
        "id": "vucknxEBKg0W",
        "colab_type": "code",
        "colab": {
          "base_uri": "https://localhost:8080/",
          "height": 1000
        },
        "outputId": "b0ee582b-626f-4411-ce7a-3940f5c5fca7"
      },
      "source": [
        "top_loss_paths"
      ],
      "execution_count": null,
      "outputs": [
        {
          "output_type": "execute_result",
          "data": {
            "text/plain": [
              "TabularList (2000 items)\n",
              "Unnamed: 0                           15213\n",
              "college                                one\n",
              "income                            0.415556\n",
              "overage                           -0.99961\n",
              "leftover                         -0.401806\n",
              "house                             -1.21583\n",
              "handset_price                    -0.373585\n",
              "over_15mins_calls_per_month      -0.894748\n",
              "average_call_duration          -0.00308889\n",
              "reported_satisfaction             very_sat\n",
              "reported_usage_level                little\n",
              "considering_change_of_plan     considering\n",
              "leave                                LEAVE\n",
              "Name: 15916, dtype: object,Unnamed: 0                           12891\n",
              "college                               zero\n",
              "income                            0.151665\n",
              "overage                           -0.99961\n",
              "leftover                         -0.439033\n",
              "house                             0.867743\n",
              "handset_price                   -0.0173069\n",
              "over_15mins_calls_per_month      -0.894748\n",
              "average_call_duration          -0.00308889\n",
              "reported_satisfaction           very_unsat\n",
              "reported_usage_level             very_high\n",
              "considering_change_of_plan     considering\n",
              "leave                                LEAVE\n",
              "Name: 15579, dtype: object,Unnamed: 0                         8110\n",
              "college                            zero\n",
              "income                          1.75418\n",
              "overage                        -0.99961\n",
              "leftover                      -0.364578\n",
              "house                           1.74899\n",
              "handset_price                   1.65626\n",
              "over_15mins_calls_per_month   -0.894748\n",
              "average_call_duration           -0.2295\n",
              "reported_satisfaction               avg\n",
              "reported_usage_level               high\n",
              "considering_change_of_plan           no\n",
              "leave                             LEAVE\n",
              "Name: 15693, dtype: object,Unnamed: 0                                          404\n",
              "college                                            zero\n",
              "income                                          1.42326\n",
              "overage                                        -0.99961\n",
              "leftover                                      -0.401806\n",
              "house                                           1.97722\n",
              "handset_price                                  0.282716\n",
              "over_15mins_calls_per_month                   -0.894748\n",
              "average_call_duration                          -0.45591\n",
              "reported_satisfaction                             unsat\n",
              "reported_usage_level                               high\n",
              "considering_change_of_plan     actively_looking_into_it\n",
              "leave                                             LEAVE\n",
              "Name: 15223, dtype: object,Unnamed: 0                                        10037\n",
              "college                                             one\n",
              "income                                          1.69799\n",
              "overage                                        -0.99961\n",
              "leftover                                      -0.587941\n",
              "house                                          0.973774\n",
              "handset_price                                    1.4078\n",
              "over_15mins_calls_per_month                   -0.894748\n",
              "average_call_duration                       -0.00308889\n",
              "reported_satisfaction                          very_sat\n",
              "reported_usage_level                          very_high\n",
              "considering_change_of_plan     actively_looking_into_it\n",
              "leave                                             LEAVE\n",
              "Name: 15658, dtype: object\n",
              "Path: /content/drive/My Drive/Colab Notebooks"
            ]
          },
          "metadata": {
            "tags": []
          },
          "execution_count": 141
        }
      ]
    },
    {
      "cell_type": "code",
      "metadata": {
        "id": "uCj7n3fh6b7S",
        "colab_type": "code",
        "colab": {
          "base_uri": "https://localhost:8080/",
          "height": 163
        },
        "outputId": "7abe7406-8180-4a6b-fe9a-ca24ef72a868"
      },
      "source": [
        "learn.fit_one_cycle()"
      ],
      "execution_count": null,
      "outputs": [
        {
          "output_type": "error",
          "ename": "TypeError",
          "evalue": "ignored",
          "traceback": [
            "\u001b[0;31m---------------------------------------------------------------------------\u001b[0m",
            "\u001b[0;31mTypeError\u001b[0m                                 Traceback (most recent call last)",
            "\u001b[0;32m<ipython-input-65-0edb0a323adf>\u001b[0m in \u001b[0;36m<module>\u001b[0;34m()\u001b[0m\n\u001b[0;32m----> 1\u001b[0;31m \u001b[0mlearn\u001b[0m\u001b[0;34m.\u001b[0m\u001b[0mfit_one_cycle\u001b[0m\u001b[0;34m(\u001b[0m\u001b[0;34m)\u001b[0m\u001b[0;34m\u001b[0m\u001b[0;34m\u001b[0m\u001b[0m\n\u001b[0m",
            "\u001b[0;31mTypeError\u001b[0m: fit_one_cycle() missing 1 required positional argument: 'cyc_len'"
          ]
        }
      ]
    },
    {
      "cell_type": "code",
      "metadata": {
        "id": "Qc2Y_C_Y4gzk",
        "colab_type": "code",
        "colab": {
          "base_uri": "https://localhost:8080/",
          "height": 34
        },
        "outputId": "9c5e2c62-bb2d-4be2-8b31-8607f54bf383"
      },
      "source": [
        "learn.predict(test[12])"
      ],
      "execution_count": null,
      "outputs": [
        {
          "output_type": "execute_result",
          "data": {
            "text/plain": [
              "(Category STAY, tensor(1), tensor([0.3625, 0.6375]))"
            ]
          },
          "metadata": {
            "tags": []
          },
          "execution_count": 53
        }
      ]
    },
    {
      "cell_type": "code",
      "metadata": {
        "id": "DQ-vmX9THnXT",
        "colab_type": "code",
        "colab": {
          "base_uri": "https://localhost:8080/",
          "height": 163
        },
        "outputId": "5ad909ec-3a28-491d-dac3-ab0b1a26587b"
      },
      "source": [
        "vision.learner"
      ],
      "execution_count": null,
      "outputs": [
        {
          "output_type": "error",
          "ename": "NameError",
          "evalue": "ignored",
          "traceback": [
            "\u001b[0;31m---------------------------------------------------------------------------\u001b[0m",
            "\u001b[0;31mNameError\u001b[0m                                 Traceback (most recent call last)",
            "\u001b[0;32m<ipython-input-131-02004a36fe43>\u001b[0m in \u001b[0;36m<module>\u001b[0;34m()\u001b[0m\n\u001b[0;32m----> 1\u001b[0;31m \u001b[0mvision\u001b[0m\u001b[0;34m.\u001b[0m\u001b[0mlearner\u001b[0m\u001b[0;34m\u001b[0m\u001b[0;34m\u001b[0m\u001b[0m\n\u001b[0m",
            "\u001b[0;31mNameError\u001b[0m: name 'vision' is not defined"
          ]
        }
      ]
    }
  ]
}